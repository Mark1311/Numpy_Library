{
 "cells": [
  {
   "cell_type": "markdown",
   "id": "d2528dd0-b040-49f5-9954-42ff9f90670b",
   "metadata": {},
   "source": [
    "# Numpy"
   ]
  },
  {
   "cell_type": "code",
   "execution_count": null,
   "id": "aa1e7688-9a9d-402a-bbe3-b190d8a0c62a",
   "metadata": {},
   "outputs": [],
   "source": [
    "# Installed Library\n",
    "\n",
    "pip install numpy"
   ]
  },
  {
   "cell_type": "code",
   "execution_count": 2,
   "id": "021b9047-5af9-4ada-8111-049dbb27b03b",
   "metadata": {},
   "outputs": [],
   "source": [
    "# Import Library\n",
    "\n",
    "import numpy as np"
   ]
  },
  {
   "cell_type": "markdown",
   "id": "52be1cdd-2dca-47fa-8204-a0b52fbfedf9",
   "metadata": {},
   "source": [
    "## Create Simple Array"
   ]
  },
  {
   "cell_type": "code",
   "execution_count": 22,
   "id": "1753084a-76f5-4398-a681-a5ffd0942e7f",
   "metadata": {},
   "outputs": [
    {
     "name": "stdout",
     "output_type": "stream",
     "text": [
      "[1 2 3 4 5]\n"
     ]
    },
    {
     "data": {
      "text/plain": [
       "array([1, 2, 3, 4, 5])"
      ]
     },
     "execution_count": 22,
     "metadata": {},
     "output_type": "execute_result"
    }
   ],
   "source": [
    "x = np.array([1,2,3,4,5])\n",
    "print(x)\n",
    "x"
   ]
  },
  {
   "cell_type": "markdown",
   "id": "5980fa6d-efe4-4cc5-bf43-b80e78490287",
   "metadata": {},
   "source": [
    "## One Dimension Array"
   ]
  },
  {
   "cell_type": "code",
   "execution_count": 12,
   "id": "f89903f5-f27e-412a-8691-3687da470112",
   "metadata": {},
   "outputs": [
    {
     "name": "stdout",
     "output_type": "stream",
     "text": [
      "[1 2 3 4 5]\n"
     ]
    },
    {
     "data": {
      "text/plain": [
       "array([1, 2, 3, 4, 5])"
      ]
     },
     "execution_count": 12,
     "metadata": {},
     "output_type": "execute_result"
    }
   ],
   "source": [
    "arr = np.array([1,2,3,4,5])\n",
    "print(arr)\n",
    "arr"
   ]
  },
  {
   "cell_type": "markdown",
   "id": "5c329d50-faab-471a-b8cb-012fa7897b85",
   "metadata": {},
   "source": [
    "## 2D Array"
   ]
  },
  {
   "cell_type": "code",
   "execution_count": 19,
   "id": "bd153bce-618c-4a7d-a9c4-cc8b85f58e6d",
   "metadata": {},
   "outputs": [
    {
     "name": "stdout",
     "output_type": "stream",
     "text": [
      "[[1 2 3]\n",
      " [4 5 6]]\n"
     ]
    },
    {
     "data": {
      "text/plain": [
       "array([[1, 2, 3],\n",
       "       [4, 5, 6]])"
      ]
     },
     "execution_count": 19,
     "metadata": {},
     "output_type": "execute_result"
    }
   ],
   "source": [
    "arr = np.array([[1,2,3],[4,5,6]])\n",
    "print(arr)\n",
    "arr"
   ]
  },
  {
   "cell_type": "markdown",
   "id": "bd9a521d-b84f-4902-bea2-1780d553ca6e",
   "metadata": {},
   "source": [
    "## 3D Array"
   ]
  },
  {
   "cell_type": "code",
   "execution_count": 21,
   "id": "99e2dfe1-6299-4d07-bdfc-4def7e80c830",
   "metadata": {},
   "outputs": [
    {
     "name": "stdout",
     "output_type": "stream",
     "text": [
      "[[[1 2 3]\n",
      "  [4 5 6]\n",
      "  [7 8 9]]]\n"
     ]
    },
    {
     "data": {
      "text/plain": [
       "array([[[1, 2, 3],\n",
       "        [4, 5, 6],\n",
       "        [7, 8, 9]]])"
      ]
     },
     "execution_count": 21,
     "metadata": {},
     "output_type": "execute_result"
    }
   ],
   "source": [
    "arr = np.array([[[1,2,3],[4,5,6],[7,8,9]]])\n",
    "print(arr)\n",
    "arr"
   ]
  },
  {
   "cell_type": "markdown",
   "id": "646c9b46-32db-4bb1-ad07-7908dd262433",
   "metadata": {},
   "source": [
    "## How to Check Dimension of the Array?"
   ]
  },
  {
   "cell_type": "code",
   "execution_count": 32,
   "id": "5d23d1f2-40f5-46d1-b1a4-44de979be1f3",
   "metadata": {},
   "outputs": [],
   "source": [
    "# 1-D Array\n",
    "\n",
    "arr1 = np.array([1,2,3,4,5])\n",
    "\n",
    "# 2-D Array\n",
    "\n",
    "arr2 = np.array([[1,2,3,],[4,5,6]])\n",
    "\n",
    "# 3-D Array\n",
    "\n",
    "arr3 = np.array([[[1,2,3],[4,5,6],[7,8,9]]])\n",
    "\n",
    "# N-D Array (This is Used for Create Multi Dimension Array)\n",
    "\n",
    "arr0 = np.array([[[[[[[[[[[[1,2,3,4,5]]]]]]]]]]]])"
   ]
  },
  {
   "cell_type": "code",
   "execution_count": 31,
   "id": "37ee7945-4429-491e-8616-9f1293a2837e",
   "metadata": {},
   "outputs": [
    {
     "name": "stdout",
     "output_type": "stream",
     "text": [
      "1\n",
      "2\n",
      "3\n",
      "12\n"
     ]
    }
   ],
   "source": [
    "print(arr1.ndim)\n",
    "print(arr2.ndim)\n",
    "print(arr3.ndim)\n",
    "print(arr0.ndim)"
   ]
  },
  {
   "cell_type": "markdown",
   "id": "f491bdb5-00ef-42b8-b1f1-321961bb3022",
   "metadata": {},
   "source": [
    "## How to Create Multi Dimension Array?"
   ]
  },
  {
   "cell_type": "code",
   "execution_count": 39,
   "id": "1de6d03e-35e8-43ba-b841-ab08d59214a1",
   "metadata": {},
   "outputs": [
    {
     "name": "stdout",
     "output_type": "stream",
     "text": [
      "12\n",
      "5\n"
     ]
    }
   ],
   "source": [
    "# 1- Way\n",
    "\n",
    "arr1 = np.array([[[[[[[[[[[[1,2,3,4,5]]]]]]]]]]]])\n",
    "print(arr1.ndim)\n",
    "\n",
    "# 2- way\n",
    "\n",
    "arr2 = np.array([1,2,3,4,5], ndmin = 5) # Where ndmin = dimension of the array. \n",
    "print(arr2.ndim)"
   ]
  },
  {
   "cell_type": "markdown",
   "id": "14e496e2-0218-4ec2-bfea-9ca7421a7010",
   "metadata": {},
   "source": [
    "# Special Type of Array."
   ]
  },
  {
   "cell_type": "markdown",
   "id": "52826087-f73f-4a88-afd3-d2a634975156",
   "metadata": {},
   "source": [
    "### Zeros Array"
   ]
  },
  {
   "cell_type": "code",
   "execution_count": 58,
   "id": "988ec37d-12f4-40eb-ae06-37ccbb02a73d",
   "metadata": {},
   "outputs": [
    {
     "data": {
      "text/plain": [
       "array([0., 0., 0.])"
      ]
     },
     "execution_count": 58,
     "metadata": {},
     "output_type": "execute_result"
    }
   ],
   "source": [
    "# 1-D Zeros Array\n",
    "\n",
    "arrx = np.zeros(3)\n",
    "arrx"
   ]
  },
  {
   "cell_type": "code",
   "execution_count": 50,
   "id": "3a6ca388-c8bf-42e5-8a56-1f19fc0b4071",
   "metadata": {},
   "outputs": [
    {
     "data": {
      "text/plain": [
       "array([[0., 0., 0., 0.],\n",
       "       [0., 0., 0., 0.]])"
      ]
     },
     "execution_count": 50,
     "metadata": {},
     "output_type": "execute_result"
    }
   ],
   "source": [
    "# 2-D Zeros Array\n",
    "\n",
    "arry = np.zeros((2,4))\n",
    "arry"
   ]
  },
  {
   "cell_type": "code",
   "execution_count": 59,
   "id": "bbc95310-8f52-4a49-a737-049800d5ee1c",
   "metadata": {},
   "outputs": [
    {
     "data": {
      "text/plain": [
       "array([[[0., 0., 0.],\n",
       "        [0., 0., 0.],\n",
       "        [0., 0., 0.]]])"
      ]
     },
     "execution_count": 59,
     "metadata": {},
     "output_type": "execute_result"
    }
   ],
   "source": [
    "# 3-D Zeros Array\n",
    "\n",
    "arrz = np.zeros((1,3,3))\n",
    "arrz"
   ]
  },
  {
   "cell_type": "markdown",
   "id": "c78cbd47-5baa-4347-8683-e7e1842714c5",
   "metadata": {},
   "source": [
    "### Ones Array"
   ]
  },
  {
   "cell_type": "code",
   "execution_count": 65,
   "id": "0e55457f-ee03-4692-aead-f4bfd88062e6",
   "metadata": {},
   "outputs": [
    {
     "data": {
      "text/plain": [
       "array([1., 1., 1., 1., 1.])"
      ]
     },
     "execution_count": 65,
     "metadata": {},
     "output_type": "execute_result"
    }
   ],
   "source": [
    "# 1-D Ones Array\n",
    "\n",
    "arrx = np.ones(5)\n",
    "arrx"
   ]
  },
  {
   "cell_type": "code",
   "execution_count": 68,
   "id": "f37ac9fd-242a-4c09-8f1e-dafc27726790",
   "metadata": {},
   "outputs": [
    {
     "data": {
      "text/plain": [
       "array([[1., 1., 1., 1.],\n",
       "       [1., 1., 1., 1.],\n",
       "       [1., 1., 1., 1.]])"
      ]
     },
     "execution_count": 68,
     "metadata": {},
     "output_type": "execute_result"
    }
   ],
   "source": [
    "# 2-D Ones Array\n",
    "\n",
    "arry = np.ones((3,4))\n",
    "arry"
   ]
  },
  {
   "cell_type": "code",
   "execution_count": 69,
   "id": "42138585-2b79-4d90-b890-c5fcb4e921e2",
   "metadata": {},
   "outputs": [
    {
     "data": {
      "text/plain": [
       "array([[[1., 1., 1., 1.],\n",
       "        [1., 1., 1., 1.],\n",
       "        [1., 1., 1., 1.]],\n",
       "\n",
       "       [[1., 1., 1., 1.],\n",
       "        [1., 1., 1., 1.],\n",
       "        [1., 1., 1., 1.]]])"
      ]
     },
     "execution_count": 69,
     "metadata": {},
     "output_type": "execute_result"
    }
   ],
   "source": [
    "# 3-D Ones Array\n",
    "\n",
    "arrz = np.ones((2,3,4))\n",
    "arrz"
   ]
  },
  {
   "cell_type": "markdown",
   "id": "5be8286f-6a6f-4893-a4f1-fa432f76ce58",
   "metadata": {},
   "source": [
    "### Empty Arrya"
   ]
  },
  {
   "cell_type": "code",
   "execution_count": 75,
   "id": "34cbdf26-2310-414a-a9ac-006e8c57366f",
   "metadata": {},
   "outputs": [
    {
     "data": {
      "text/plain": [
       "array([1., 1.])"
      ]
     },
     "execution_count": 75,
     "metadata": {},
     "output_type": "execute_result"
    }
   ],
   "source": [
    "# 1-D Empty Array\n",
    "\n",
    "arrx = np.empty(2)\n",
    "arrx"
   ]
  },
  {
   "cell_type": "code",
   "execution_count": 76,
   "id": "23a3b13c-027c-4d53-8de9-f7bdcb79794e",
   "metadata": {},
   "outputs": [
    {
     "data": {
      "text/plain": [
       "array([[1., 1., 1., 1.],\n",
       "       [1., 1., 1., 1.],\n",
       "       [1., 1., 1., 1.]])"
      ]
     },
     "execution_count": 76,
     "metadata": {},
     "output_type": "execute_result"
    }
   ],
   "source": [
    "# 2-D Empty Array\n",
    "\n",
    "arry = np.empty((3,4))\n",
    "arry"
   ]
  },
  {
   "cell_type": "code",
   "execution_count": 78,
   "id": "be60f53b-0890-42d8-b40a-63dc5937d862",
   "metadata": {},
   "outputs": [
    {
     "data": {
      "text/plain": [
       "array([[[1., 1., 1., 1.],\n",
       "        [1., 1., 1., 1.],\n",
       "        [1., 1., 1., 1.]],\n",
       "\n",
       "       [[1., 1., 1., 1.],\n",
       "        [1., 1., 1., 1.],\n",
       "        [1., 1., 1., 1.]]])"
      ]
     },
     "execution_count": 78,
     "metadata": {},
     "output_type": "execute_result"
    }
   ],
   "source": [
    "# 3-D Empty Array\n",
    "\n",
    "arrz = np.empty((2,3,4))\n",
    "arrz"
   ]
  },
  {
   "cell_type": "markdown",
   "id": "92cc65be-a360-4175-8ea6-4403a967fac2",
   "metadata": {},
   "source": [
    "### Range Array"
   ]
  },
  {
   "cell_type": "code",
   "execution_count": 86,
   "id": "98df0654-cfd9-4efa-8464-03960e38f128",
   "metadata": {},
   "outputs": [
    {
     "data": {
      "text/plain": [
       "array([0, 1, 2, 3, 4, 5, 6, 7, 8, 9])"
      ]
     },
     "execution_count": 86,
     "metadata": {},
     "output_type": "execute_result"
    }
   ],
   "source": [
    "arr = np.arange(10)\n",
    "arr"
   ]
  },
  {
   "cell_type": "markdown",
   "id": "12f69e66-8f4f-4a6b-ba22-12c9f9c7fd61",
   "metadata": {},
   "source": [
    "### Diagonal Array"
   ]
  },
  {
   "cell_type": "code",
   "execution_count": 90,
   "id": "c2bfe2a7-2b6b-4de5-977e-6e892e03f111",
   "metadata": {},
   "outputs": [
    {
     "data": {
      "text/plain": [
       "array([[1., 0., 0., 0., 0.],\n",
       "       [0., 1., 0., 0., 0.],\n",
       "       [0., 0., 1., 0., 0.],\n",
       "       [0., 0., 0., 1., 0.],\n",
       "       [0., 0., 0., 0., 1.]])"
      ]
     },
     "execution_count": 90,
     "metadata": {},
     "output_type": "execute_result"
    }
   ],
   "source": [
    "arrx = np.eye(5)\n",
    "arrx"
   ]
  },
  {
   "cell_type": "code",
   "execution_count": 100,
   "id": "aad900e1-375f-49bb-893b-2c097bf29dd6",
   "metadata": {},
   "outputs": [
    {
     "data": {
      "text/plain": [
       "array([[1., 0., 0., 0., 0.],\n",
       "       [0., 1., 0., 0., 0.],\n",
       "       [0., 0., 1., 0., 0.]])"
      ]
     },
     "execution_count": 100,
     "metadata": {},
     "output_type": "execute_result"
    }
   ],
   "source": [
    "arry = np.eye(3,5)\n",
    "arry"
   ]
  },
  {
   "cell_type": "code",
   "execution_count": 103,
   "id": "962ff38e-93aa-4d94-90da-5144c985957e",
   "metadata": {},
   "outputs": [
    {
     "data": {
      "text/plain": [
       "array([[0., 0., 0., 1., 0., 0.],\n",
       "       [0., 0., 0., 0., 1., 0.],\n",
       "       [0., 0., 0., 0., 0., 1.],\n",
       "       [0., 0., 0., 0., 0., 0.]])"
      ]
     },
     "execution_count": 103,
     "metadata": {},
     "output_type": "execute_result"
    }
   ],
   "source": [
    "arrz = np.eye(4,6,3)\n",
    "arrz"
   ]
  },
  {
   "cell_type": "markdown",
   "id": "a0e8f001-c65f-48df-9aff-931294928716",
   "metadata": {},
   "source": [
    "### Line Space Array"
   ]
  },
  {
   "cell_type": "code",
   "execution_count": 117,
   "id": "3087ac0e-e82d-4f4f-bcfa-34fe30073bf0",
   "metadata": {},
   "outputs": [
    {
     "data": {
      "text/plain": [
       "array([ 0.,  5., 10., 15., 20.])"
      ]
     },
     "execution_count": 117,
     "metadata": {},
     "output_type": "execute_result"
    }
   ],
   "source": [
    "arrx = np.linspace(0,20, num =5)\n",
    "arrx"
   ]
  },
  {
   "cell_type": "code",
   "execution_count": 114,
   "id": "51197978-52d6-4b13-a6d1-6b96a54d0eb6",
   "metadata": {},
   "outputs": [
    {
     "data": {
      "text/plain": [
       "array([ 10.        ,  31.11111111,  52.22222222,  73.33333333,\n",
       "        94.44444444, 115.55555556, 136.66666667, 157.77777778,\n",
       "       178.88888889, 200.        ])"
      ]
     },
     "execution_count": 114,
     "metadata": {},
     "output_type": "execute_result"
    }
   ],
   "source": [
    "arrx = np.linspace(10, 200, num = 10)\n",
    "arrx"
   ]
  },
  {
   "cell_type": "markdown",
   "id": "e242d3b4-9e8e-4860-b6c4-bbce96dd9ef6",
   "metadata": {},
   "source": [
    "## Create Array With Random Numbers"
   ]
  },
  {
   "cell_type": "code",
   "execution_count": 123,
   "id": "13a33a65-f7e9-44ad-9663-a4035948de0a",
   "metadata": {},
   "outputs": [
    {
     "data": {
      "text/plain": [
       "array([0.90858366, 0.17642976, 0.65131182, 0.23944134])"
      ]
     },
     "execution_count": 123,
     "metadata": {},
     "output_type": "execute_result"
    }
   ],
   "source": [
    "# Using Rand Function:-\n",
    "\n",
    "arr = np.random.rand(4)\n",
    "arr"
   ]
  },
  {
   "cell_type": "code",
   "execution_count": 143,
   "id": "d2746038-7190-4513-8191-974a23f93e8f",
   "metadata": {},
   "outputs": [
    {
     "data": {
      "text/plain": [
       "array([0.22189738, 6.67995295, 2.21885015, 1.78739823, 5.52925494,\n",
       "       5.7199317 , 1.42672157, 5.56123753, 4.37834658, 2.98768101])"
      ]
     },
     "execution_count": 143,
     "metadata": {},
     "output_type": "execute_result"
    }
   ],
   "source": [
    "arr1 = np.random.rand(10)*10\n",
    "arr1"
   ]
  },
  {
   "cell_type": "code",
   "execution_count": 149,
   "id": "4c40207f-f935-4b82-92ec-8022ad3b3f4e",
   "metadata": {},
   "outputs": [
    {
     "data": {
      "text/plain": [
       "array([[0.40077224, 0.71801514, 0.70613043, 0.38182651],\n",
       "       [0.82606092, 0.07459227, 0.5688507 , 0.14390461]])"
      ]
     },
     "execution_count": 149,
     "metadata": {},
     "output_type": "execute_result"
    }
   ],
   "source": [
    "arr2 = np.random.rand(2,4)\n",
    "arr2"
   ]
  },
  {
   "cell_type": "code",
   "execution_count": 152,
   "id": "a6b535ed-f837-40ce-8825-15a9a90f73df",
   "metadata": {},
   "outputs": [
    {
     "data": {
      "text/plain": [
       "array([-1.00471742, -0.74375084,  0.15677913, -1.40350911])"
      ]
     },
     "execution_count": 152,
     "metadata": {},
     "output_type": "execute_result"
    }
   ],
   "source": [
    "# Using Randn() Function:- \n",
    "\n",
    "# Note:- Randn() Function, generate the random value near to zero(Values are positive or Negitive both).\n",
    "\n",
    "arr1 = np.random.randn(4)\n",
    "arr1"
   ]
  },
  {
   "cell_type": "code",
   "execution_count": 156,
   "id": "87ab10af-37f9-4c1b-b6e8-08df928a0d18",
   "metadata": {},
   "outputs": [
    {
     "data": {
      "text/plain": [
       "array([[-0.32420462, -0.7003491 ],\n",
       "       [-0.31518589,  0.32082202],\n",
       "       [ 0.43186921,  0.44808968],\n",
       "       [ 1.63739105, -0.43558441]])"
      ]
     },
     "execution_count": 156,
     "metadata": {},
     "output_type": "execute_result"
    }
   ],
   "source": [
    "arr1 = np.random.randn(4,2)\n",
    "arr1"
   ]
  },
  {
   "cell_type": "code",
   "execution_count": 158,
   "id": "6abe3965-0589-4ccc-a4c5-bdd39b915dc6",
   "metadata": {},
   "outputs": [
    {
     "data": {
      "text/plain": [
       "array([8, 8, 9, 1])"
      ]
     },
     "execution_count": 158,
     "metadata": {},
     "output_type": "execute_result"
    }
   ],
   "source": [
    "# Using Randint Function:-\n",
    "\n",
    "# Note:- Randint() Function, Generate the value between given range.\n",
    "\n",
    "#Syntax:- (Mini, Max, Num. of Values)\n",
    "\n",
    "arr = np.random.randint(1,10,4)\n",
    "arr"
   ]
  },
  {
   "cell_type": "markdown",
   "id": "bb725a16-2b04-481b-bb10-886b0c888faa",
   "metadata": {},
   "source": [
    "### Find the Size of the Array?"
   ]
  },
  {
   "cell_type": "code",
   "execution_count": 161,
   "id": "9e3a9ab5-40c4-4d38-bb40-33fd04a75d5c",
   "metadata": {},
   "outputs": [
    {
     "name": "stdout",
     "output_type": "stream",
     "text": [
      "8\n"
     ]
    },
    {
     "data": {
      "text/plain": [
       "8"
      ]
     },
     "execution_count": 161,
     "metadata": {},
     "output_type": "execute_result"
    }
   ],
   "source": [
    "arr_size = np.array([1,2,3,4,5,6,78,0])\n",
    "print(arr_size.size)\n",
    "arr_size.size"
   ]
  },
  {
   "cell_type": "markdown",
   "id": "a4866f8f-42cc-42b2-8601-aa0f47a3245e",
   "metadata": {},
   "source": [
    "### Check Data-Type"
   ]
  },
  {
   "cell_type": "code",
   "execution_count": 169,
   "id": "4f19b3d9-54aa-43b5-97aa-91994f7f2466",
   "metadata": {},
   "outputs": [
    {
     "data": {
      "text/plain": [
       "dtype('int32')"
      ]
     },
     "execution_count": 169,
     "metadata": {},
     "output_type": "execute_result"
    }
   ],
   "source": [
    "arr1 = np.array([1,2,3,4])\n",
    "arr1.dtype"
   ]
  },
  {
   "cell_type": "code",
   "execution_count": 165,
   "id": "49bc1aac-d469-4fee-9170-b02cb467631e",
   "metadata": {},
   "outputs": [
    {
     "data": {
      "text/plain": [
       "dtype('float64')"
      ]
     },
     "execution_count": 165,
     "metadata": {},
     "output_type": "execute_result"
    }
   ],
   "source": [
    "arr2 = np.array([1.0,2,3,4])\n",
    "arr2.dtype"
   ]
  },
  {
   "cell_type": "code",
   "execution_count": 168,
   "id": "1bc65f37-e042-428a-b9e3-e97a735c501c",
   "metadata": {},
   "outputs": [
    {
     "data": {
      "text/plain": [
       "dtype('float64')"
      ]
     },
     "execution_count": 168,
     "metadata": {},
     "output_type": "execute_result"
    }
   ],
   "source": [
    "arr3 = np.array([1.0,2.9,3.9,4.5])\n",
    "arr3.dtype\n"
   ]
  },
  {
   "cell_type": "markdown",
   "id": "472d2a23-291f-4cfd-bdb3-1c155569165c",
   "metadata": {},
   "source": [
    "### Type Casting / Inter-Change DataType"
   ]
  },
  {
   "cell_type": "code",
   "execution_count": 170,
   "id": "67f42c4e-3b76-47c8-9089-97726bb0438d",
   "metadata": {},
   "outputs": [
    {
     "data": {
      "text/plain": [
       "dtype('int32')"
      ]
     },
     "execution_count": 170,
     "metadata": {},
     "output_type": "execute_result"
    }
   ],
   "source": [
    "# Without Type Casting\n",
    "\n",
    "X = np.array([1,2,3,45,6])\n",
    "X.dtype"
   ]
  },
  {
   "cell_type": "code",
   "execution_count": 189,
   "id": "180f1ad9-32dd-4ae4-ad97-d19d818facf6",
   "metadata": {},
   "outputs": [
    {
     "name": "stdout",
     "output_type": "stream",
     "text": [
      "[ 1  2  3 45  6]\n"
     ]
    }
   ],
   "source": [
    "# With Type Casting\n",
    "\n",
    "X = np.array([1,2,3,45,6], dtype = np.int64)\n",
    "print(X)"
   ]
  },
  {
   "cell_type": "code",
   "execution_count": 188,
   "id": "e916e063-17e1-47f4-bab7-bfb8806017a2",
   "metadata": {},
   "outputs": [
    {
     "data": {
      "text/plain": [
       "array([2., 4., 8., 9., 6.])"
      ]
     },
     "execution_count": 188,
     "metadata": {},
     "output_type": "execute_result"
    }
   ],
   "source": [
    "Y = np.array([2,4,8,9,6])\n",
    "# datatype = Y.astype(complex)\n",
    "# datatype = Y.astype(bool)\n",
    "# datatype = Y.astype(str)\n",
    "\n",
    "datatype = Y.astype(float)\n",
    "datatype"
   ]
  },
  {
   "cell_type": "markdown",
   "id": "511bbfe1-da33-4668-b702-73f61c5072f2",
   "metadata": {},
   "source": [
    "### Arthmetic Operation in NumPy"
   ]
  },
  {
   "cell_type": "markdown",
   "id": "dca08236-a130-436f-aacc-64ceefd3b18c",
   "metadata": {},
   "source": [
    "#### 1-D Array"
   ]
  },
  {
   "cell_type": "raw",
   "id": "904f6c79-afa1-48d3-9ddd-60cce11b50c7",
   "metadata": {},
   "source": [
    "Formule:-\n",
    "\n",
    "a/b ==> np.add(a,b)\n",
    "a-b ==> np.subtract(a,b)\n",
    "a*b ==> np.multiply(a,b)\n",
    "a/b ==> np.divide(a,b)\n",
    "a%b ==> np.mod(a,b)\n",
    "a**b ==> np.power(a,b)\n",
    "1/a ==> np.reciprocal(a)"
   ]
  },
  {
   "cell_type": "code",
   "execution_count": 202,
   "id": "6aa8bb59-6d06-4b02-8f57-8d3d5c2ef9f2",
   "metadata": {},
   "outputs": [
    {
     "name": "stdout",
     "output_type": "stream",
     "text": [
      "Sum ==> [5 7 9]\n",
      "Subtract ==> [-3 -3 -3]\n",
      "Multiply ==> [ 4 10 18]\n",
      "Divide ==> [0.25 0.4  0.5 ]\n",
      "Module ==> [1 2 3]\n",
      "Power ==> [  1  32 729]\n",
      "Reciprocal ==>  [0 0 0]\n"
     ]
    }
   ],
   "source": [
    "x = np.array([1,2,3])\n",
    "y = np.array([4,5,6])\n",
    "\n",
    "print(\"Sum ==>\", np.add(x,y))\n",
    "\n",
    "print(\"Subtract ==>\",np.subtract(x,y))\n",
    "\n",
    "print(\"Multiply ==>\" ,np.multiply(x,y))\n",
    "\n",
    "print(\"Divide ==>\" , np.divide(x,y))\n",
    "\n",
    "print(\"Module ==>\", np.mod(x,y))\n",
    "\n",
    "print(\"Power ==>\", np.power(x,y))\n",
    "\n",
    "print(\"Reciprocal ==> \", np.reciprocal(y))"
   ]
  },
  {
   "cell_type": "markdown",
   "id": "977085fd-1a09-42ba-8f31-594c49d3d1dd",
   "metadata": {},
   "source": [
    "#### For 2-D Array"
   ]
  },
  {
   "cell_type": "code",
   "execution_count": 204,
   "id": "a8ca1475-e361-42b9-baaf-46f8cb874df7",
   "metadata": {},
   "outputs": [
    {
     "name": "stdout",
     "output_type": "stream",
     "text": [
      "[[ 8 10 12]\n",
      " [ 7  7  7]]\n",
      "[[ 7 16 27]\n",
      " [12 10  6]]\n"
     ]
    }
   ],
   "source": [
    "arr1 = np.array([[1,2,3],[4,5,6]])\n",
    "arr2 = np.array([[7,8,9],[3,2,1]])\n",
    "\n",
    "print(np.add(arr1,arr2))\n",
    "\n",
    "print(np.multiply(arr1,arr2))"
   ]
  },
  {
   "cell_type": "markdown",
   "id": "ad5979e6-98e5-404e-a8a8-c2d1a0a49434",
   "metadata": {},
   "source": [
    "### Arthmetic Function"
   ]
  },
  {
   "cell_type": "raw",
   "id": "578cb33c-59d9-4031-b0f2-c9bccecef581",
   "metadata": {},
   "source": [
    "Formule:-\n",
    "\n",
    "np.min()\n",
    "np.max()\n",
    "np.argmin() ==> Returen Minimum Value Positive\n",
    "np.argmax() ==> Returen Maximum Value Positive\n",
    "np.sqrt()   ==> Return the Square Root of the array\n",
    "np.cumsun()"
   ]
  },
  {
   "cell_type": "code",
   "execution_count": 4,
   "id": "31fd39ab-2595-402a-ada1-630c5e80479e",
   "metadata": {},
   "outputs": [
    {
     "name": "stdout",
     "output_type": "stream",
     "text": [
      "98\n",
      " \n",
      "2\n",
      " \n",
      "[1.41421356 8.18535277 9.89949494 7.48331477 8.83176087 4.89897949\n",
      " 9.48683298 5.         6.08276253]\n",
      " \n",
      "[ 1  3  6 10 15 21 28 36 45 45]\n"
     ]
    }
   ],
   "source": [
    "arr = np.array([2,67,98,56,78,24,90,25,37])\n",
    "\n",
    "print(np.max(arr))\n",
    "print(\" \")\n",
    "\n",
    "print(np.min(arr))\n",
    "print(\" \")\n",
    "\n",
    "print(np.sqrt(arr))\n",
    "print(\" \")\n",
    "\n",
    "arr2 = np.array([1,2,3,4,5,6,7,8,9,0])\n",
    "\n",
    "print(np.cumsum(arr2))"
   ]
  },
  {
   "cell_type": "markdown",
   "id": "27583522-aeef-420e-ba84-9824ce83d128",
   "metadata": {},
   "source": [
    "### Shape"
   ]
  },
  {
   "cell_type": "code",
   "execution_count": 215,
   "id": "ff3893ec-6e55-4c74-b516-1c5bb96d787f",
   "metadata": {},
   "outputs": [
    {
     "name": "stdout",
     "output_type": "stream",
     "text": [
      "(2, 3)\n"
     ]
    }
   ],
   "source": [
    "var1 = np.array([[1,2,3],[4,5,6]])\n",
    "print(var1.shape)"
   ]
  },
  {
   "cell_type": "code",
   "execution_count": 218,
   "id": "4e5a5c49-6edc-4831-8ab9-2784a7aa0ab8",
   "metadata": {},
   "outputs": [
    {
     "name": "stdout",
     "output_type": "stream",
     "text": [
      "7\n",
      "[[[[[[[ 1 24  5 67  8  4  0 34  2  3]]]]]]]\n",
      "(1, 1, 1, 1, 1, 1, 10)\n"
     ]
    }
   ],
   "source": [
    "var2 = np.array([[[[[[[1,24,5,67,8,4,0,34,2,3]]]]]]])\n",
    "print(var2.ndim)\n",
    "print(var2)\n",
    "print(var2.shape)"
   ]
  },
  {
   "cell_type": "markdown",
   "id": "d5aefc3d-3614-4b42-b656-7c91e9840d12",
   "metadata": {},
   "source": [
    "### ReShape The Array"
   ]
  },
  {
   "cell_type": "code",
   "execution_count": 225,
   "id": "77d483c7-771b-49bc-a80b-e226aa8c01ed",
   "metadata": {},
   "outputs": [
    {
     "name": "stdout",
     "output_type": "stream",
     "text": [
      "[ 1  2  3 45 67  8  9  5  0]\n",
      "  \n",
      "[[ 1  2  3]\n",
      " [45 67  8]\n",
      " [ 9  5  0]]\n"
     ]
    }
   ],
   "source": [
    "arr = np.array([1,2,3,45,67,8,9,5,0])\n",
    "print(arr)\n",
    "print(\"  \")\n",
    "print(arr.reshape(3,3))"
   ]
  },
  {
   "cell_type": "markdown",
   "id": "f81b8a9c-7970-4f9f-9741-e5a99522c0d9",
   "metadata": {},
   "source": [
    "#### Convert into 1-D Dimension."
   ]
  },
  {
   "cell_type": "code",
   "execution_count": 231,
   "id": "81d1bdd5-6922-450a-bd1e-cd1baa48010c",
   "metadata": {},
   "outputs": [
    {
     "name": "stdout",
     "output_type": "stream",
     "text": [
      "[[1 2 3]\n",
      " [4 5 6]\n",
      " [7 8 9]]\n",
      "[1 2 3 4 5 6 7 8 9]\n",
      "[1 2 3 4 5 6 7 8 9]\n"
     ]
    }
   ],
   "source": [
    "array = np.array([[1,2,3],[4,5,6],[7,8,9]])\n",
    "print(array)\n",
    "\n",
    "# 1 - Way  \n",
    "print(array.reshape(-1)) \n",
    "\n",
    "# 2nd - Way\n",
    "print(array.ravel())"
   ]
  },
  {
   "cell_type": "markdown",
   "id": "edb3a501-2a3c-42fb-b062-61937727035b",
   "metadata": {},
   "source": [
    "### Array Slicilg"
   ]
  },
  {
   "cell_type": "code",
   "execution_count": 237,
   "id": "4ade8523-6acc-4a08-8ba5-249967361a07",
   "metadata": {},
   "outputs": [
    {
     "name": "stdout",
     "output_type": "stream",
     "text": [
      "[2 3 4 5 6 7]\n"
     ]
    }
   ],
   "source": [
    "# 1-D Array Slicing\n",
    "\n",
    "arr = np.array([1,2,3,4,5,6,7,8,90,12,23,34,45,56,67,78,89,9])\n",
    "print(arr[1:7])   "
   ]
  },
  {
   "cell_type": "code",
   "execution_count": 242,
   "id": "3a5544fd-b7f1-43b3-912c-e19900f3d59f",
   "metadata": {},
   "outputs": [
    {
     "name": "stdout",
     "output_type": "stream",
     "text": [
      "[2 3]\n",
      "[34 45 56 67]\n"
     ]
    }
   ],
   "source": [
    " # 2-D Array Slicing\n",
    "\n",
    "arr = np.array([[1,2,3,4,5,6],[12,23,34,45,56,67]])\n",
    "print(arr[0,1:3])\n",
    "print(arr[1,2:6])"
   ]
  },
  {
   "cell_type": "markdown",
   "id": "999da252-240c-4c6c-a596-3a027db0a217",
   "metadata": {},
   "source": [
    "### Iteration Array"
   ]
  },
  {
   "cell_type": "markdown",
   "id": "43e92d10-756f-4667-a38c-1ed5aa0602ba",
   "metadata": {},
   "source": [
    "#### For 1-D Array"
   ]
  },
  {
   "cell_type": "code",
   "execution_count": 251,
   "id": "80481436-5657-40eb-abf5-42c7ff7f8172",
   "metadata": {},
   "outputs": [
    {
     "name": "stdout",
     "output_type": "stream",
     "text": [
      "1\n",
      "2\n",
      "3\n",
      "4\n",
      "5\n",
      "6\n",
      "7\n",
      "56\n",
      "67\n",
      "78\n",
      "89\n",
      "9\n"
     ]
    }
   ],
   "source": [
    "arr = np.array([1,2,3,4,5,6,7,56,67,78,89,9])\n",
    "for i in arr:\n",
    "    print(i)"
   ]
  },
  {
   "cell_type": "markdown",
   "id": "665cda4f-ebbf-4d74-88b3-dc7908683b68",
   "metadata": {},
   "source": [
    "#### For 2-D Array"
   ]
  },
  {
   "cell_type": "code",
   "execution_count": 245,
   "id": "5eec4326-5949-4fa2-a6fd-5a2ed4121aed",
   "metadata": {},
   "outputs": [
    {
     "name": "stdout",
     "output_type": "stream",
     "text": [
      "[1 2 3 4 5 6]\n",
      "[12 23 34 45 56 67]\n"
     ]
    }
   ],
   "source": [
    "arr = np.array([[1,2,3,4,5,6],[12,23,34,45,56,67]])\n",
    "\n",
    "for i in arr:\n",
    "    print(i)"
   ]
  },
  {
   "cell_type": "code",
   "execution_count": 246,
   "id": "0b18bff6-0dbc-4038-b17c-9263e64b44e7",
   "metadata": {},
   "outputs": [
    {
     "name": "stdout",
     "output_type": "stream",
     "text": [
      "1\n",
      "2\n",
      "3\n",
      "4\n",
      "5\n",
      "6\n",
      "12\n",
      "23\n",
      "34\n",
      "45\n",
      "56\n",
      "67\n"
     ]
    }
   ],
   "source": [
    "arr = np.array([[1,2,3,4,5,6],[12,23,34,45,56,67]])\n",
    "\n",
    "for i in arr:\n",
    "    for j in i:\n",
    "        print(j)"
   ]
  },
  {
   "cell_type": "markdown",
   "id": "78dde60e-5a42-4496-9171-10c1e9731939",
   "metadata": {},
   "source": [
    "#### For 3-D Array"
   ]
  },
  {
   "cell_type": "code",
   "execution_count": 253,
   "id": "8318641e-9360-4281-84dd-ab7e0ce8add0",
   "metadata": {},
   "outputs": [
    {
     "name": "stdout",
     "output_type": "stream",
     "text": [
      "1\n",
      "2\n",
      "3\n",
      "4\n",
      "5\n",
      "6\n",
      "7\n",
      "8\n",
      "9\n"
     ]
    }
   ],
   "source": [
    "arr = np.array([[[1,2,3],[4,5,6],[7,8,9]]])\n",
    "\n",
    "for i in arr:\n",
    "    for j in i:\n",
    "        for k in j:\n",
    "            print(k)"
   ]
  },
  {
   "cell_type": "markdown",
   "id": "52e36548-2c14-4836-83a6-490a48b5942a",
   "metadata": {},
   "source": [
    "#### Using Function:-"
   ]
  },
  {
   "cell_type": "code",
   "execution_count": 260,
   "id": "d06ca249-f736-4f1b-adc2-c066ab90b7dd",
   "metadata": {},
   "outputs": [
    {
     "name": "stdout",
     "output_type": "stream",
     "text": [
      "1\n",
      "2\n",
      "3\n",
      "4\n",
      "5\n",
      "6\n",
      "7\n",
      "56\n",
      "67\n",
      "78\n",
      "89\n",
      "9\n"
     ]
    }
   ],
   "source": [
    "# 1-D Array\n",
    "arr1 = np.array([1,2,3,4,5,6,7,56,67,78,89,9]) \n",
    "for i in np.nditer(arr1):\n",
    "    print(i)"
   ]
  },
  {
   "cell_type": "code",
   "execution_count": 261,
   "id": "ece35c20-3a24-40d8-930d-8e4c03e512a8",
   "metadata": {},
   "outputs": [
    {
     "name": "stdout",
     "output_type": "stream",
     "text": [
      "1\n",
      "2\n",
      "3\n",
      "4\n",
      "5\n",
      "6\n",
      "12\n",
      "23\n",
      "34\n",
      "45\n",
      "56\n",
      "67\n"
     ]
    }
   ],
   "source": [
    "# 2-D Array\n",
    "arr2 = np.array([[1,2,3,4,5,6],[12,23,34,45,56,67]])\n",
    "for i in np.nditer(arr2):\n",
    "    print(i)"
   ]
  },
  {
   "cell_type": "code",
   "execution_count": 262,
   "id": "55aa32f5-d310-47bb-ac86-3c26a329ad96",
   "metadata": {},
   "outputs": [
    {
     "name": "stdout",
     "output_type": "stream",
     "text": [
      "1\n",
      "2\n",
      "3\n",
      "4\n",
      "5\n",
      "6\n",
      "7\n",
      "8\n",
      "9\n"
     ]
    }
   ],
   "source": [
    "# 3-D Array\n",
    "arr3 = np.array([[[1,2,3],[4,5,6],[7,8,9]]]) \n",
    "for i in np.nditer(arr3):\n",
    "    print(i)"
   ]
  },
  {
   "cell_type": "markdown",
   "id": "81144491-57de-400f-b422-88561e0b4f0e",
   "metadata": {},
   "source": [
    "### Join Array"
   ]
  },
  {
   "cell_type": "code",
   "execution_count": 264,
   "id": "add31e95-4062-4338-9cac-a859aa07088c",
   "metadata": {},
   "outputs": [
    {
     "name": "stdout",
     "output_type": "stream",
     "text": [
      "[1 2 3 4 0 9 8 7]\n"
     ]
    }
   ],
   "source": [
    "# 1-D Array\n",
    "\n",
    "arr1 = np.array([1,2,3,4])\n",
    "arr2 = np.array([0,9,8,7])\n",
    "\n",
    "joinarr = np.concatenate((arr1,arr2))\n",
    "print(joinarr)"
   ]
  },
  {
   "cell_type": "code",
   "execution_count": 266,
   "id": "126b1221-9a4f-4c98-835d-a51799919050",
   "metadata": {},
   "outputs": [
    {
     "name": "stdout",
     "output_type": "stream",
     "text": [
      "[[ 1  2  3 11 22 33]\n",
      " [ 4  5  6 44 55 66]]\n",
      "[[ 1  2  3]\n",
      " [ 4  5  6]\n",
      " [11 22 33]\n",
      " [44 55 66]]\n"
     ]
    }
   ],
   "source": [
    "# 2-D Array\n",
    "\n",
    "arr1 = np.array([[1,2,3],[4,5,6]])\n",
    "arr2 = np.array([[11,22,33], [44,55,66]])\n",
    "print(np.concatenate((arr1,arr2), axis = 1))\n",
    "print(np.concatenate((arr1,arr2), axis = 0))"
   ]
  },
  {
   "cell_type": "code",
   "execution_count": 274,
   "id": "d3683680-4409-40cd-91d8-82978ba1971e",
   "metadata": {},
   "outputs": [
    {
     "name": "stdout",
     "output_type": "stream",
     "text": [
      "[[[1 2 3 4]]]\n",
      "[1 2 3 4]\n",
      "[[1]\n",
      " [2]\n",
      " [3]\n",
      " [4]]\n",
      "[1 2 3 4]\n"
     ]
    }
   ],
   "source": [
    "# Join Array Using for \n",
    "arr1 = np.array([1,2,3,4])\n",
    "print(np.dstack(arr1))\n",
    "print(np.hstack(arr1))\n",
    "print(np.vstack(arr1))\n",
    "print(np.stack(arr1))"
   ]
  },
  {
   "cell_type": "markdown",
   "id": "e160b2a8-c3d2-4980-be47-1d0b456b7ef7",
   "metadata": {},
   "source": [
    "## Array Splir"
   ]
  },
  {
   "cell_type": "code",
   "execution_count": 282,
   "id": "7ac0cccd-1087-4939-9d82-6fa446e799cd",
   "metadata": {},
   "outputs": [
    {
     "name": "stdout",
     "output_type": "stream",
     "text": [
      "[array([1, 2]), array([3, 4]), array([5, 6]), array([7]), array([8])]\n"
     ]
    }
   ],
   "source": [
    "# In 1-D Array\n",
    "\n",
    "arr = np.array([1,2,3,4,5,6,7,8])\n",
    "splt = np.array_split(arr, 5)\n",
    "print(splt)"
   ]
  },
  {
   "cell_type": "code",
   "execution_count": 286,
   "id": "a0205ad6-dad6-4374-8097-0a7e9d07e130",
   "metadata": {},
   "outputs": [
    {
     "name": "stdout",
     "output_type": "stream",
     "text": [
      "[array([[11, 22, 33]]), array([[44, 55, 66]])]\n"
     ]
    }
   ],
   "source": [
    "# In 2-D Array\n",
    "\n",
    "arr = np.array([[11,22,33], [44,55,66]])\n",
    "print(np.array_split(arr, 2))"
   ]
  },
  {
   "cell_type": "markdown",
   "id": "97787ad5-54d1-41b8-b168-ba7183b81722",
   "metadata": {},
   "source": [
    "## Searching in Array"
   ]
  },
  {
   "cell_type": "markdown",
   "id": "bf864bc0-5349-4fdf-a5be-92bd5ebe9718",
   "metadata": {},
   "source": [
    "#### Search value and return index."
   ]
  },
  {
   "cell_type": "code",
   "execution_count": 302,
   "id": "b0e0ca45-5716-40a4-9f9c-e795aa9fa9a0",
   "metadata": {},
   "outputs": [
    {
     "name": "stdout",
     "output_type": "stream",
     "text": [
      "4\n"
     ]
    }
   ],
   "source": [
    "arr1 = np.array([1,2,3,4,5,6,7,56,67,78,89,9]) \n",
    "x1 = np.searchsorted(arr1,5)\n",
    "print(x1)"
   ]
  },
  {
   "cell_type": "markdown",
   "id": "0281418d-b384-4f8c-87f9-51342088ce46",
   "metadata": {},
   "source": [
    "#### Sort Array"
   ]
  },
  {
   "cell_type": "code",
   "execution_count": 314,
   "id": "c95ee113-7859-448f-b86a-8488ea66f800",
   "metadata": {},
   "outputs": [
    {
     "name": "stdout",
     "output_type": "stream",
     "text": [
      "[[ 22 110 330]\n",
      " [ 44  55  66]]\n",
      "[ 1  2  3  4  5  6  7  9 56 67 78 89]\n"
     ]
    }
   ],
   "source": [
    "arr1 = np.array([1,2,3,4,5,6,7,56,67,78,89,9]) \n",
    "arr = np.array([[110,22,330], [44,55,66]])\n",
    "\n",
    "print(np.sort(arr))\n",
    "print(np.sort(arr1))"
   ]
  },
  {
   "cell_type": "markdown",
   "id": "21508629-669a-4d9f-9966-0fe98d1d3555",
   "metadata": {},
   "source": [
    "#### Unique Value "
   ]
  },
  {
   "cell_type": "code",
   "execution_count": 319,
   "id": "8c1ae158-0d0b-44f4-ac43-a0dfcff473bc",
   "metadata": {},
   "outputs": [
    {
     "name": "stdout",
     "output_type": "stream",
     "text": [
      "[ 1  2  3  4  5  6  7  8  9 45]\n"
     ]
    }
   ],
   "source": [
    "arr = np.array([1,2,3,2,4,5,3,4,2,45,5,6,8,7,9,7,6])\n",
    "print(np.unique(arr))"
   ]
  },
  {
   "cell_type": "markdown",
   "id": "c08cf6f2-aa28-47e5-9d07-c1faf580a350",
   "metadata": {},
   "source": [
    "#### Resize Array"
   ]
  },
  {
   "cell_type": "code",
   "execution_count": 321,
   "id": "4288c643-066c-496b-bc76-54ae373f1b87",
   "metadata": {},
   "outputs": [
    {
     "name": "stdout",
     "output_type": "stream",
     "text": [
      "[[1 2 3]\n",
      " [4 5 6]\n",
      " [7 8 9]]\n"
     ]
    }
   ],
   "source": [
    "arr = np.array([1,2,3,4,5,6,7,8,9,0])\n",
    "\n",
    "print(np.resize(arr,(3,3)))"
   ]
  },
  {
   "cell_type": "markdown",
   "id": "3d1b89ca-b112-4784-9980-b106e7b47c05",
   "metadata": {},
   "source": [
    "#### Convert 2d array to 1d Array"
   ]
  },
  {
   "cell_type": "code",
   "execution_count": 322,
   "id": "296a5488-b133-43dc-bfe6-3f431385033f",
   "metadata": {},
   "outputs": [
    {
     "name": "stdout",
     "output_type": "stream",
     "text": [
      "[1 2 3 4 5 6]\n"
     ]
    }
   ],
   "source": [
    "arr = np.array([[1,2,3],[4,5,6]])\n",
    "print(arr.flatten())"
   ]
  },
  {
   "cell_type": "markdown",
   "id": "37019228-d552-4165-b3df-589097e13180",
   "metadata": {},
   "source": [
    "#### Insert data into a Array"
   ]
  },
  {
   "cell_type": "code",
   "execution_count": 336,
   "id": "436e2a33-26a4-410d-831e-48e8c61ec76e",
   "metadata": {},
   "outputs": [
    {
     "name": "stdout",
     "output_type": "stream",
     "text": [
      "[ 1  2  3 33  4  5]\n",
      "[ 1 22  2 33  3 44  4  5]\n"
     ]
    }
   ],
   "source": [
    "arr = np.array([1,2,3,4,5])\n",
    "#Syntax = (arrat=yName, Index, Value)\n",
    "print(np.insert(arr, 3, 33))    # Insert Single Value\n",
    "\n",
    "print(np.insert(arr, [1,2,3], [22,33,44]))  # Insert Multiple Value"
   ]
  },
  {
   "cell_type": "markdown",
   "id": "0ab40f4f-10dc-4fe3-b743-39a0e12d5c86",
   "metadata": {},
   "source": [
    "#### Insert One array into another Array"
   ]
  },
  {
   "cell_type": "code",
   "execution_count": 334,
   "id": "ff7f733b-575e-471b-b3ad-2a3059f1d8c2",
   "metadata": {},
   "outputs": [
    {
     "name": "stdout",
     "output_type": "stream",
     "text": [
      "[ 1 70  2 90  3 80  4  5]\n"
     ]
    }
   ],
   "source": [
    "arr1 = np.array([1,2,3,4,5])\n",
    "arr2 = np.array([90,80,70])\n",
    "\n",
    "print(np.insert(arr1,[2,3,1],arr2))"
   ]
  },
  {
   "cell_type": "markdown",
   "id": "be45533c-19d0-4717-9dbe-347489515eab",
   "metadata": {},
   "source": [
    "#### Data Insert into 2D Array"
   ]
  },
  {
   "cell_type": "code",
   "execution_count": 341,
   "id": "573a9be8-3304-48b1-91bd-d05ad24f31f2",
   "metadata": {},
   "outputs": [
    {
     "name": "stdout",
     "output_type": "stream",
     "text": [
      "[[1 5 2 3]\n",
      " [4 5 5 6]]\n"
     ]
    }
   ],
   "source": [
    "arr = np.array([[1,2,3],[4,5,6]])\n",
    "print(np.insert(arr, 1,5, axis = 1))"
   ]
  },
  {
   "cell_type": "markdown",
   "id": "81951a7d-2d26-498a-8c4e-41c066fad8d0",
   "metadata": {},
   "source": [
    "#### Delete Array Value"
   ]
  },
  {
   "cell_type": "code",
   "execution_count": 343,
   "id": "810a5254-080c-4e25-9462-cdf48356e3fe",
   "metadata": {},
   "outputs": [
    {
     "name": "stdout",
     "output_type": "stream",
     "text": [
      "[1 2 3 5]\n"
     ]
    }
   ],
   "source": [
    "arr1 = np.array([1,2,3,4,5]) \n",
    "\n",
    "print(np.delete(arr1,3))"
   ]
  },
  {
   "cell_type": "markdown",
   "id": "394a37ed-760d-4121-94e5-34fda6594e5a",
   "metadata": {},
   "source": [
    "#### Transpose Array"
   ]
  },
  {
   "cell_type": "code",
   "execution_count": 345,
   "id": "3239e9b6-baed-461e-8f4f-5c22ac624fd1",
   "metadata": {},
   "outputs": [
    {
     "name": "stdout",
     "output_type": "stream",
     "text": [
      "[[1 4]\n",
      " [2 5]\n",
      " [3 6]]\n"
     ]
    }
   ],
   "source": [
    "arr1 = np.array([[1,2,3],[4,5,6]])\n",
    "\n",
    "print(np.transpose(arr1))"
   ]
  },
  {
   "cell_type": "code",
   "execution_count": 346,
   "id": "8637f639-4766-4ac7-935c-77c256b609eb",
   "metadata": {},
   "outputs": [
    {
     "data": {
      "text/plain": [
       "array([[[1],\n",
       "        [4],\n",
       "        [7]],\n",
       "\n",
       "       [[2],\n",
       "        [5],\n",
       "        [8]],\n",
       "\n",
       "       [[3],\n",
       "        [6],\n",
       "        [9]]])"
      ]
     },
     "execution_count": 346,
     "metadata": {},
     "output_type": "execute_result"
    }
   ],
   "source": [
    "arr = np.array([[[1,2,3],[4,5,6],[7,8,9]]])\n",
    "arr.T"
   ]
  },
  {
   "cell_type": "markdown",
   "id": "7f479a54-702b-455f-840c-d458daa15242",
   "metadata": {},
   "source": [
    "#### Swap the Matrix Axis"
   ]
  },
  {
   "cell_type": "code",
   "execution_count": 348,
   "id": "5758bb9d-b8ed-4466-a6af-65df03b6cc4e",
   "metadata": {},
   "outputs": [
    {
     "name": "stdout",
     "output_type": "stream",
     "text": [
      "[[1 2 3]\n",
      " [4 5 6]]\n",
      "[[1 4]\n",
      " [2 5]\n",
      " [3 6]]\n"
     ]
    }
   ],
   "source": [
    "arr = np.array([[1,2,3],[4,5,6]])\n",
    "print(arr)\n",
    "print(np.swapaxes(arr,0,1))"
   ]
  },
  {
   "cell_type": "markdown",
   "id": "e9539bfe-9990-436f-839c-5633afd8662d",
   "metadata": {},
   "source": [
    "#### Inverse Matrix"
   ]
  },
  {
   "cell_type": "code",
   "execution_count": 351,
   "id": "4b5cc706-a876-4d00-97a5-0aa27bd4e6e6",
   "metadata": {},
   "outputs": [
    {
     "name": "stdout",
     "output_type": "stream",
     "text": [
      "[[ 9 12]\n",
      " [24 33]]\n"
     ]
    }
   ],
   "source": [
    "arr = np.array([[1,2,],[4,5,]])\n",
    "print(arr.dot(arr))"
   ]
  },
  {
   "cell_type": "markdown",
   "id": "a74b9664-e794-4d3a-84ee-7d8b7fde3ba1",
   "metadata": {},
   "source": [
    "#### Determinant of Matrix"
   ]
  },
  {
   "cell_type": "code",
   "execution_count": 353,
   "id": "b826e358-123c-4c7d-975a-0eea20722391",
   "metadata": {},
   "outputs": [
    {
     "name": "stdout",
     "output_type": "stream",
     "text": [
      "-2.9999999999999996\n"
     ]
    }
   ],
   "source": [
    "arr = np.array([[1,2],[4,5]])\n",
    "print(np.linalg.det(arr))"
   ]
  },
  {
   "cell_type": "markdown",
   "id": "7f5892e8-d85f-4a5e-becf-cd5816865255",
   "metadata": {},
   "source": [
    "#### Full Up the Array"
   ]
  },
  {
   "cell_type": "code",
   "execution_count": 356,
   "id": "8b8b5d38-107f-410f-b710-40a3c3319232",
   "metadata": {},
   "outputs": [
    {
     "data": {
      "text/plain": [
       "array([[99, 99],\n",
       "       [99, 99]])"
      ]
     },
     "execution_count": 356,
     "metadata": {},
     "output_type": "execute_result"
    }
   ],
   "source": [
    "np.full((2,2),99)"
   ]
  },
  {
   "cell_type": "code",
   "execution_count": 357,
   "id": "148c96c3-e86c-455a-8d64-df86608e4597",
   "metadata": {},
   "outputs": [
    {
     "data": {
      "text/plain": [
       "array([[6, 6, 6, 6],\n",
       "       [6, 6, 6, 6],\n",
       "       [6, 6, 6, 6],\n",
       "       [6, 6, 6, 6]])"
      ]
     },
     "execution_count": 357,
     "metadata": {},
     "output_type": "execute_result"
    }
   ],
   "source": [
    "np.full((4,4), 6)"
   ]
  },
  {
   "cell_type": "markdown",
   "id": "cdec027c-48af-43d0-80ab-a9c55141239d",
   "metadata": {},
   "source": [
    "#### Identity Array"
   ]
  },
  {
   "cell_type": "code",
   "execution_count": 367,
   "id": "c1305918-5bf9-41b1-bdd0-5c4787b6b9a4",
   "metadata": {},
   "outputs": [
    {
     "data": {
      "text/plain": [
       "array([[1., 0., 0., 0.],\n",
       "       [0., 1., 0., 0.],\n",
       "       [0., 0., 1., 0.],\n",
       "       [0., 0., 0., 1.]])"
      ]
     },
     "execution_count": 367,
     "metadata": {},
     "output_type": "execute_result"
    }
   ],
   "source": [
    "np.identity(4)"
   ]
  },
  {
   "cell_type": "raw",
   "id": "676b99a4-b9b6-44ee-b22f-1f62e09baab5",
   "metadata": {},
   "source": [
    "#Important Questions for Interviews\n",
    "\n",
    "1) What is Numpy?\n",
    "2) Why we used Numpy?\n",
    "3) Diff b/w Numpy array and List?\n",
    "4) Why fast Numpy array from the list?"
   ]
  },
  {
   "cell_type": "markdown",
   "id": "edf738ad-72f6-4716-a7bd-2f46cf565fbe",
   "metadata": {},
   "source": [
    "# ThankYou & Mark VaranVal"
   ]
  }
 ],
 "metadata": {
  "kernelspec": {
   "display_name": "Python 3 (ipykernel)",
   "language": "python",
   "name": "python3"
  },
  "language_info": {
   "codemirror_mode": {
    "name": "ipython",
    "version": 3
   },
   "file_extension": ".py",
   "mimetype": "text/x-python",
   "name": "python",
   "nbconvert_exporter": "python",
   "pygments_lexer": "ipython3",
   "version": "3.11.4"
  }
 },
 "nbformat": 4,
 "nbformat_minor": 5
}
